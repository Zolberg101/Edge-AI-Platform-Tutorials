{
  "nbformat": 4,
  "nbformat_minor": 0,
  "metadata": {
    "colab": {
      "name": "cifar_solo.ipynb",
      "version": "0.3.2",
      "provenance": [],
      "collapsed_sections": [],
      "include_colab_link": true
    },
    "kernelspec": {
      "name": "python3",
      "display_name": "Python 3"
    },
    "accelerator": "GPU"
  },
  "cells": [
    {
      "cell_type": "markdown",
      "metadata": {
        "id": "view-in-github",
        "colab_type": "text"
      },
      "source": [
        "<a href=\"https://colab.research.google.com/github/Zolberg101/Edge-AI-Platform-Tutorials/blob/master/cifar_solo.ipynb\" target=\"_parent\"><img src=\"https://colab.research.google.com/assets/colab-badge.svg\" alt=\"Open In Colab\"/></a>"
      ]
    },
    {
      "cell_type": "code",
      "metadata": {
        "id": "u7hPk-K_gxGw",
        "colab_type": "code",
        "colab": {}
      },
      "source": [
        "import torch\n",
        "import random\n",
        "import numpy as np\n",
        "import tensorflow as tf\n",
        "import torchvision.datasets\n",
        "import matplotlib.pyplot as plt\n",
        "import shutil\n",
        "import tqdm as tqdm\n",
        "import torchvision\n",
        "import time\n",
        "import pandas as pn\n",
        "# import cuda"
      ],
      "execution_count": 0,
      "outputs": []
    },
    {
      "cell_type": "code",
      "metadata": {
        "id": "QJVYsy9Ri7t2",
        "colab_type": "code",
        "colab": {}
      },
      "source": [
        "random.seed(0)\n",
        "np.random.seed(0)\n",
        "torch.manual_seed(0)\n",
        "torch.cuda.manual_seed(0)\n",
        "torch.backends.cudnn.determenistic = True"
      ],
      "execution_count": 0,
      "outputs": []
    },
    {
      "cell_type": "code",
      "metadata": {
        "id": "PluqSDxlmehk",
        "colab_type": "code",
        "colab": {
          "base_uri": "https://localhost:8080/",
          "height": 51
        },
        "outputId": "936b1495-a5b2-44da-dac3-ba44e6e5c780"
      },
      "source": [
        "CIFAR_train = torchvision.datasets.CIFAR10('./', download=True, train=True)\n",
        "CIFAR_test  = torchvision.datasets.CIFAR10('./', download=True, train=False)"
      ],
      "execution_count": 106,
      "outputs": [
        {
          "output_type": "stream",
          "text": [
            "Files already downloaded and verified\n",
            "Files already downloaded and verified\n"
          ],
          "name": "stdout"
        }
      ]
    },
    {
      "cell_type": "code",
      "metadata": {
        "id": "acQ7OJANni-d",
        "colab_type": "code",
        "colab": {}
      },
      "source": [
        "# nvidia-smi"
      ],
      "execution_count": 0,
      "outputs": []
    },
    {
      "cell_type": "code",
      "metadata": {
        "id": "hws6BjKUmej_",
        "colab_type": "code",
        "colab": {}
      },
      "source": [
        "device = torch.device('cuda:0' if torch.cuda.is_available() else 'cpu')"
      ],
      "execution_count": 0,
      "outputs": []
    },
    {
      "cell_type": "code",
      "metadata": {
        "id": "RXdgOJ0-memN",
        "colab_type": "code",
        "colab": {}
      },
      "source": [
        "X_train = torch.FloatTensor(CIFAR_train.data)\n",
        "y_train = torch.LongTensor(CIFAR_test.targets)\n",
        "X_test  = torch.FloatTensor(CIFAR_train.data)\n",
        "y_test  = torch.LongTensor(CIFAR_test.targets)"
      ],
      "execution_count": 0,
      "outputs": []
    },
    {
      "cell_type": "code",
      "metadata": {
        "id": "iECDNhIWmeof",
        "colab_type": "code",
        "colab": {
          "base_uri": "https://localhost:8080/",
          "height": 34
        },
        "outputId": "1d2b9581-29b1-4e0d-dea7-adb40fedcdcd"
      },
      "source": [
        "len(X_train), len(y_test)"
      ],
      "execution_count": 110,
      "outputs": [
        {
          "output_type": "execute_result",
          "data": {
            "text/plain": [
              "(50000, 10000)"
            ]
          },
          "metadata": {
            "tags": []
          },
          "execution_count": 110
        }
      ]
    },
    {
      "cell_type": "code",
      "metadata": {
        "id": "fj90MYs0mese",
        "colab_type": "code",
        "colab": {
          "base_uri": "https://localhost:8080/",
          "height": 34
        },
        "outputId": "8f96784e-af4f-488e-9403-8392cf18a3be"
      },
      "source": [
        "X_train.min(), X_train.max()"
      ],
      "execution_count": 111,
      "outputs": [
        {
          "output_type": "execute_result",
          "data": {
            "text/plain": [
              "(tensor(0.), tensor(255.))"
            ]
          },
          "metadata": {
            "tags": []
          },
          "execution_count": 111
        }
      ]
    },
    {
      "cell_type": "code",
      "metadata": {
        "id": "hZ43nSuXmeuk",
        "colab_type": "code",
        "colab": {}
      },
      "source": [
        "X_train /= 255\n",
        "X_test  /= 255"
      ],
      "execution_count": 0,
      "outputs": []
    },
    {
      "cell_type": "code",
      "metadata": {
        "id": "pRe8AqYGmewl",
        "colab_type": "code",
        "colab": {
          "base_uri": "https://localhost:8080/",
          "height": 187
        },
        "outputId": "3d078a19-ed96-4fa2-c358-1a68921955a0"
      },
      "source": [
        "CIFAR_train.classes"
      ],
      "execution_count": 113,
      "outputs": [
        {
          "output_type": "execute_result",
          "data": {
            "text/plain": [
              "['airplane',\n",
              " 'automobile',\n",
              " 'bird',\n",
              " 'cat',\n",
              " 'deer',\n",
              " 'dog',\n",
              " 'frog',\n",
              " 'horse',\n",
              " 'ship',\n",
              " 'truck']"
            ]
          },
          "metadata": {
            "tags": []
          },
          "execution_count": 113
        }
      ]
    },
    {
      "cell_type": "code",
      "metadata": {
        "id": "rwCqYt5RtkKu",
        "colab_type": "code",
        "colab": {
          "base_uri": "https://localhost:8080/",
          "height": 183
        },
        "outputId": "5b22ae4e-c4db-4a39-dacc-1f786590fb0e"
      },
      "source": [
        "plt.figure(figsize=(20,2))\n",
        "for i in range(10):\n",
        "  plt.subplot(1, 10, i+1)\n",
        "  plt.imshow (X_train[i])\n",
        "  print(y_train[i], end='__')"
      ],
      "execution_count": 114,
      "outputs": [
        {
          "output_type": "stream",
          "text": [
            "tensor(3)__tensor(8)__tensor(8)__tensor(0)__tensor(6)__tensor(6)__tensor(1)__tensor(6)__tensor(3)__tensor(1)__"
          ],
          "name": "stdout"
        },
        {
          "output_type": "display_data",
          "data": {
            "image/png": "[encoded data removed]",
            "text/plain": [
              "<Figure size 1440x144 with 10 Axes>"
            ]
          },
          "metadata": {
            "tags": []
          }
        }
      ]
    },
    {
      "cell_type": "code",
      "metadata": {
        "id": "RVkRakgnyBCw",
        "colab_type": "code",
        "colab": {
          "base_uri": "https://localhost:8080/",
          "height": 34
        },
        "outputId": "150242a7-5794-47b7-f314-253327939a0d"
      },
      "source": [
        "X_train.shape, y_train.shape"
      ],
      "execution_count": 115,
      "outputs": [
        {
          "output_type": "execute_result",
          "data": {
            "text/plain": [
              "(torch.Size([50000, 32, 32, 3]), torch.Size([10000]))"
            ]
          },
          "metadata": {
            "tags": []
          },
          "execution_count": 115
        }
      ]
    },
    {
      "cell_type": "code",
      "metadata": {
        "id": "mAvumFoStwa3",
        "colab_type": "code",
        "colab": {}
      },
      "source": [
        "X_train = X_train.permute(0, 3, 1, 2)\n",
        "X_test = X_test.permute(0, 3, 1, 2)"
      ],
      "execution_count": 0,
      "outputs": []
    },
    {
      "cell_type": "code",
      "metadata": {
        "id": "P0JCL2eSx8zd",
        "colab_type": "code",
        "colab": {
          "base_uri": "https://localhost:8080/",
          "height": 34
        },
        "outputId": "6bc998d6-9ac1-41d0-fe7d-4e0c8a9ebac9"
      },
      "source": [
        "X_train.shape, y_train.shape"
      ],
      "execution_count": 117,
      "outputs": [
        {
          "output_type": "execute_result",
          "data": {
            "text/plain": [
              "(torch.Size([50000, 3, 32, 32]), torch.Size([10000]))"
            ]
          },
          "metadata": {
            "tags": []
          },
          "execution_count": 117
        }
      ]
    },
    {
      "cell_type": "code",
      "metadata": {
        "id": "ojhdOHKE0sUA",
        "colab_type": "code",
        "colab": {}
      },
      "source": [
        "bat_s  = 100 #batch_size\n",
        "nm     = 200 #number of epoch\n",
        "l_r    = 1.0e-3 #learning rate\n",
        "s_s    = 500 #step size\n",
        "mmn    = 0.9 #momentum for SGD\n",
        "gm     = 0.1"
      ],
      "execution_count": 0,
      "outputs": []
    },
    {
      "cell_type": "code",
      "metadata": {
        "id": "6Obuk652ADB_",
        "colab_type": "code",
        "colab": {}
      },
      "source": [
        "train_dataloader = torch.utils.data.DataLoader(\n",
        "    X_train, batch_size=bat_s, shuffle=False, num_workers=bat_s)\n",
        "val_dataloader   = torch.utils.data.DataLoader(\n",
        "    X_test, batch_size=bat_s, shuffle=False, num_workers=bat_s)\n",
        "\n",
        "\n"
      ],
      "execution_count": 0,
      "outputs": []
    },
    {
      "cell_type": "code",
      "metadata": {
        "id": "TIF0bou-BBI1",
        "colab_type": "code",
        "colab": {
          "base_uri": "https://localhost:8080/",
          "height": 34
        },
        "outputId": "6b5fac2c-5cd5-4905-9b76-5428e077ab6c"
      },
      "source": [
        "len(train_dataloader), len(X_test)"
      ],
      "execution_count": 120,
      "outputs": [
        {
          "output_type": "execute_result",
          "data": {
            "text/plain": [
              "(500, 50000)"
            ]
          },
          "metadata": {
            "tags": []
          },
          "execution_count": 120
        }
      ]
    },
    {
      "cell_type": "code",
      "metadata": {
        "id": "KCls26S7BBLV",
        "colab_type": "code",
        "colab": {}
      },
      "source": [
        "def start_train(model, loss, optimizer, scheduler, num_epochs):\n",
        "  for epoch in range(num_epochs):\n",
        "    print('Epoch {}/{}:'.format(epoch, num_epochs - 1), flush=True)\n",
        "    \n",
        "    for phase in [X_train, X_test]:\n",
        "      if phase == X_train:\n",
        "        dataloader = train_dataloader\n",
        "        scheduler.step()\n",
        "        model.train()\n",
        "      else:\n",
        "        dataloader = val_dataloader\n",
        "        model.eval()\n",
        "        \n",
        "      running_loss = 0\n",
        "      running_acc  = 0\n",
        "      \n",
        "      for inputs, labels in tqdm(dataloader):\n",
        "        inputs = inputs.to(device)\n",
        "        labels = labels.to(device)\n",
        "        \n",
        "        optimizer.zero_grad()\n",
        "    \n",
        "      with torch.set_grad_enable(phase==X_test):\n",
        "        preds = model(inputs)\n",
        "        loss_value = loss(preds, labels)\n",
        "        preds_class = preds.argmax(dim=1)\n",
        "        \n",
        "        if phase  == X_test:\n",
        "          loss_value.backward()\n",
        "          optimizer.step()\n",
        "          \n",
        "      running_loss += loss_value.item()\n",
        "      running_acc  += (preds_class == labels.data).float().mean()\n",
        "    \n",
        "    epoch_loss = running_loss / len(dataloader)\n",
        "    epoch_acc  = running_acc  / len(dataloader)\n",
        "    loss_his = [epoch_loss]\n",
        "    acc_his  = [epoch_acc ]\n",
        "    print('{} Loss: {:.4f} Acc: [:.4f]'.format(phase, epoch_loss, epoch_acc), flush=True)\n",
        "  \n",
        "  return model\n",
        "      "
      ],
      "execution_count": 0,
      "outputs": []
    },
    {
      "cell_type": "code",
      "metadata": {
        "id": "3mp69CfWADEL",
        "colab_type": "code",
        "colab": {}
      },
      "source": [
        "from torchvision import models\n",
        "model = models.resnet18(pretrained=True)\n",
        "\n",
        "for param in model.parameters():\n",
        "  param.requires_grad = False\n",
        "  \n",
        "model.fc = torch.nn.Linear(model.fc.in_features, 10)\n",
        "\n",
        "model = model.to(device)\n",
        "\n",
        "loss = torch.nn.CrossEntropyLoss()\n",
        "optimizer = torch.optim.Adam(model.parameters(), amsgrad=True, lr=l_r)\n",
        "#optimezer = torch.optim.SGD(model.parameters(), lr=l_r, momentum = mmn)\n",
        "scheduler = torch.optim.lr_scheduler.StepLR(optimizer, step_size=s_s, gamma = gm)"
      ],
      "execution_count": 0,
      "outputs": []
    },
    {
      "cell_type": "code",
      "metadata": {
        "id": "2BAlfG8pADGj",
        "colab_type": "code",
        "colab": {
          "base_uri": "https://localhost:8080/",
          "height": 319
        },
        "outputId": "98d69621-d95b-46d1-b46a-bb12a8df2b82"
      },
      "source": [
        "start_train(model, loss, optimizer, scheduler, num_epochs=nm)"
      ],
      "execution_count": 136,
      "outputs": [
        {
          "output_type": "stream",
          "text": [
            "Epoch 0/199:\n"
          ],
          "name": "stdout"
        },
        {
          "output_type": "error",
          "ename": "RuntimeError",
          "evalue": "ignored",
          "traceback": [
            "\u001b[0;31m---------------------------------------------------------------------------\u001b[0m",
            "\u001b[0;31mRuntimeError\u001b[0m                              Traceback (most recent call last)",
            "\u001b[0;32m<ipython-input-136-e3f565a53edf>\u001b[0m in \u001b[0;36m<module>\u001b[0;34m()\u001b[0m\n\u001b[0;32m----> 1\u001b[0;31m \u001b[0mstart_train\u001b[0m\u001b[0;34m(\u001b[0m\u001b[0mmodel\u001b[0m\u001b[0;34m,\u001b[0m \u001b[0mloss\u001b[0m\u001b[0;34m,\u001b[0m \u001b[0moptimizer\u001b[0m\u001b[0;34m,\u001b[0m \u001b[0mscheduler\u001b[0m\u001b[0;34m,\u001b[0m \u001b[0mnum_epochs\u001b[0m\u001b[0;34m=\u001b[0m\u001b[0mnm\u001b[0m\u001b[0;34m)\u001b[0m\u001b[0;34m\u001b[0m\u001b[0;34m\u001b[0m\u001b[0m\n\u001b[0m",
            "\u001b[0;32m<ipython-input-133-d37dcabbd471>\u001b[0m in \u001b[0;36mstart_train\u001b[0;34m(model, loss, optimizer, scheduler, num_epochs)\u001b[0m\n\u001b[1;32m      4\u001b[0m \u001b[0;34m\u001b[0m\u001b[0m\n\u001b[1;32m      5\u001b[0m     \u001b[0;32mfor\u001b[0m \u001b[0mphase\u001b[0m \u001b[0;32min\u001b[0m \u001b[0;34m[\u001b[0m\u001b[0mX_train\u001b[0m\u001b[0;34m,\u001b[0m \u001b[0mX_test\u001b[0m\u001b[0;34m]\u001b[0m\u001b[0;34m:\u001b[0m\u001b[0;34m\u001b[0m\u001b[0;34m\u001b[0m\u001b[0m\n\u001b[0;32m----> 6\u001b[0;31m       \u001b[0;32mif\u001b[0m \u001b[0mphase\u001b[0m \u001b[0;34m==\u001b[0m \u001b[0mX_train\u001b[0m\u001b[0;34m:\u001b[0m\u001b[0;34m\u001b[0m\u001b[0;34m\u001b[0m\u001b[0m\n\u001b[0m\u001b[1;32m      7\u001b[0m         \u001b[0mdataloader\u001b[0m \u001b[0;34m=\u001b[0m \u001b[0mtrain_dataloader\u001b[0m\u001b[0;34m\u001b[0m\u001b[0;34m\u001b[0m\u001b[0m\n\u001b[1;32m      8\u001b[0m         \u001b[0mscheduler\u001b[0m\u001b[0;34m.\u001b[0m\u001b[0mstep\u001b[0m\u001b[0;34m(\u001b[0m\u001b[0;34m)\u001b[0m\u001b[0;34m\u001b[0m\u001b[0;34m\u001b[0m\u001b[0m\n",
            "\u001b[0;31mRuntimeError\u001b[0m: bool value of Tensor with more than one value is ambiguous"
          ]
        }
      ]
    },
    {
      "cell_type": "code",
      "metadata": {
        "id": "CONfa1yjXl7f",
        "colab_type": "code",
        "colab": {
          "base_uri": "https://localhost:8080/",
          "height": 231
        },
        "outputId": "2c9bc687-7130-4e8f-8a88-827be467d975"
      },
      "source": [
        "model.eval()\n",
        "test_predictions = []\n",
        "test_img_paths   = []\n",
        "pred             = []\n",
        "for inputs, labels, paths in tqdm(test_dataloader):\n",
        "  inputs = inputs.to(device)\n",
        "  labels = labels.to(device)\n",
        "  with torch.set_grad_enable(False):\n",
        "    preds = model(inputs)\n",
        "  test_predictions.append(torch.nn.functional.softmax(preds, dim=1)[:,1].data.cpu().numpy())\n",
        "  test_img_paths.extend(paths)\n",
        "  pred=pred\n",
        "test_predictions = np.concatenate(test_predictions)"
      ],
      "execution_count": 130,
      "outputs": [
        {
          "output_type": "error",
          "ename": "NameError",
          "evalue": "ignored",
          "traceback": [
            "\u001b[0;31m---------------------------------------------------------------------------\u001b[0m",
            "\u001b[0;31mNameError\u001b[0m                                 Traceback (most recent call last)",
            "\u001b[0;32m<ipython-input-130-5cb4a5f1837a>\u001b[0m in \u001b[0;36m<module>\u001b[0;34m()\u001b[0m\n\u001b[1;32m      3\u001b[0m \u001b[0mtest_img_paths\u001b[0m   \u001b[0;34m=\u001b[0m \u001b[0;34m[\u001b[0m\u001b[0;34m]\u001b[0m\u001b[0;34m\u001b[0m\u001b[0;34m\u001b[0m\u001b[0m\n\u001b[1;32m      4\u001b[0m \u001b[0mpred\u001b[0m             \u001b[0;34m=\u001b[0m \u001b[0;34m[\u001b[0m\u001b[0;34m]\u001b[0m\u001b[0;34m\u001b[0m\u001b[0;34m\u001b[0m\u001b[0m\n\u001b[0;32m----> 5\u001b[0;31m \u001b[0;32mfor\u001b[0m \u001b[0minputs\u001b[0m\u001b[0;34m,\u001b[0m \u001b[0mlabels\u001b[0m\u001b[0;34m,\u001b[0m \u001b[0mpaths\u001b[0m \u001b[0;32min\u001b[0m \u001b[0mtqdm\u001b[0m\u001b[0;34m(\u001b[0m\u001b[0mtest_dataloader\u001b[0m\u001b[0;34m)\u001b[0m\u001b[0;34m:\u001b[0m\u001b[0;34m\u001b[0m\u001b[0;34m\u001b[0m\u001b[0m\n\u001b[0m\u001b[1;32m      6\u001b[0m   \u001b[0minputs\u001b[0m \u001b[0;34m=\u001b[0m \u001b[0minputs\u001b[0m\u001b[0;34m.\u001b[0m\u001b[0mto\u001b[0m\u001b[0;34m(\u001b[0m\u001b[0mdevice\u001b[0m\u001b[0;34m)\u001b[0m\u001b[0;34m\u001b[0m\u001b[0;34m\u001b[0m\u001b[0m\n\u001b[1;32m      7\u001b[0m   \u001b[0mlabels\u001b[0m \u001b[0;34m=\u001b[0m \u001b[0mlabels\u001b[0m\u001b[0;34m.\u001b[0m\u001b[0mto\u001b[0m\u001b[0;34m(\u001b[0m\u001b[0mdevice\u001b[0m\u001b[0;34m)\u001b[0m\u001b[0;34m\u001b[0m\u001b[0;34m\u001b[0m\u001b[0m\n",
            "\u001b[0;31mNameError\u001b[0m: name 'test_dataloader' is not defined"
          ]
        }
      ]
    },
    {
      "cell_type": "code",
      "metadata": {
        "id": "wNRv5iXQtwfE",
        "colab_type": "code",
        "colab": {}
      },
      "source": [
        "# def train(net, X_train, y_train, X_test, y_test):\n",
        "  \n",
        "#   batch_size = bat_s\n",
        "  \n",
        "#   net = net.to(device)\n",
        "\n",
        "#   loss = CrossEntropyLoss()\n",
        "#   optimizer = torch.optim.Adam(model.parameters(), amsgrad=True, lr=l_r)\n",
        "#   #optimizer = torch.optim.Adam(model.parameters(), lr=l_r, momentum = mmn)\n",
        "#   #scheduler = torch.optim.lr_scheduler.StepLR(optimizer, step_size=s_s, gamma=0.1)\n",
        "  \n",
        "#   acc_metric = []\n",
        "#   loss_metric= []\n",
        "  \n",
        "#   X_test = X_test.to(device)\n",
        "#   y_test = y_test.to(device)\n",
        "  \n",
        "#   for epoch in range(rng):\n",
        "#     order = np.random.permutation(len(X_train))\n",
        "#     for start_index in range(0, len(X_train), bat_s):\n",
        "#       optimizer.zero_grad()\n",
        "#       model.train()\n",
        "      \n",
        "#       batch_indexes = order[start_index:start_index+bat_s]\n",
        "      \n",
        "#       X_batch = X_train[batch_indexes].to(device)\n",
        "#       y_batch = y_train[batch_indexes].to(device)\n",
        "      \n",
        "#       preds = model.forward(X_batch)\n",
        "      \n",
        "#       loss_value = loss(preds, y_batch)\n",
        "#       loss.value.backward()\n",
        "      \n",
        "#       optimizer.step()\n",
        "      \n",
        "#       x_batch\n",
        "#       net.eval()\n",
        "#       test_preds = net.forward(X_test)\n",
        "#       loss_metric.append(loss(test_preds, y_test).data.cpu())\n",
        "\n",
        "#       accuracy = (test_preds.argmax(dim=1)==y_test).float().mean().data.cpu()\n",
        "#       acc_metric.append(accuracy)\n",
        "\n",
        "#       print(accuracy)\n",
        "#   del net\n",
        "#   return acc_metric, loss_metric\n",
        "\n",
        "\n",
        "\n",
        "\n",
        "    "
      ],
      "execution_count": 0,
      "outputs": []
    },
    {
      "cell_type": "code",
      "metadata": {
        "id": "DbBD32Ijtwha",
        "colab_type": "code",
        "colab": {}
      },
      "source": [
        ""
      ],
      "execution_count": 0,
      "outputs": []
    },
    {
      "cell_type": "code",
      "metadata": {
        "id": "zwhHNtQKtwju",
        "colab_type": "code",
        "colab": {}
      },
      "source": [
        ""
      ],
      "execution_count": 0,
      "outputs": []
    },
    {
      "cell_type": "code",
      "metadata": {
        "id": "t-LeJi18tkNE",
        "colab_type": "code",
        "colab": {}
      },
      "source": [
        ""
      ],
      "execution_count": 0,
      "outputs": []
    },
    {
      "cell_type": "code",
      "metadata": {
        "id": "RtMffqb3tkPt",
        "colab_type": "code",
        "colab": {}
      },
      "source": [
        ""
      ],
      "execution_count": 0,
      "outputs": []
    },
    {
      "cell_type": "code",
      "metadata": {
        "id": "6WBAv9MxtkSS",
        "colab_type": "code",
        "colab": {}
      },
      "source": [
        ""
      ],
      "execution_count": 0,
      "outputs": []
    },
    {
      "cell_type": "code",
      "metadata": {
        "id": "jPmDKC14tkUS",
        "colab_type": "code",
        "colab": {}
      },
      "source": [
        ""
      ],
      "execution_count": 0,
      "outputs": []
    },
    {
      "cell_type": "code",
      "metadata": {
        "id": "GkpkfSxxtkWm",
        "colab_type": "code",
        "colab": {}
      },
      "source": [
        ""
      ],
      "execution_count": 0,
      "outputs": []
    }
  ]
}